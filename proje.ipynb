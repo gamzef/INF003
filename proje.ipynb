{
  "nbformat": 4,
  "nbformat_minor": 0,
  "metadata": {
    "colab": {
      "name": "proje.ipynb",
      "provenance": [],
      "collapsed_sections": [],
      "authorship_tag": "ABX9TyPNUTpCPBmiyWvQVtOKvQIx",
      "include_colab_link": true
    },
    "kernelspec": {
      "name": "python3",
      "display_name": "Python 3"
    }
  },
  "cells": [
    {
      "cell_type": "markdown",
      "metadata": {
        "id": "view-in-github",
        "colab_type": "text"
      },
      "source": [
        "<a href=\"https://colab.research.google.com/github/gamzef/INF003/blob/master/proje.ipynb\" target=\"_parent\"><img src=\"https://colab.research.google.com/assets/colab-badge.svg\" alt=\"Open In Colab\"/></a>"
      ]
    },
    {
      "cell_type": "markdown",
      "metadata": {
        "id": "fb_51PT_z7Uy",
        "colab_type": "text"
      },
      "source": [
        "**Install and Import Dependencies**"
      ]
    },
    {
      "cell_type": "code",
      "metadata": {
        "id": "9tb3HiPPfdhX",
        "colab_type": "code",
        "colab": {
          "base_uri": "https://localhost:8080/",
          "height": 202
        },
        "outputId": "f2ce0201-39af-411d-c1fa-970831ddf2c3"
      },
      "source": [
        "!pip install kaggle #for kaggle datasets"
      ],
      "execution_count": null,
      "outputs": [
        {
          "output_type": "stream",
          "text": [
            "Requirement already satisfied: kaggle in /usr/local/lib/python3.6/dist-packages (1.5.6)\n",
            "Requirement already satisfied: requests in /usr/local/lib/python3.6/dist-packages (from kaggle) (2.23.0)\n",
            "Requirement already satisfied: six>=1.10 in /usr/local/lib/python3.6/dist-packages (from kaggle) (1.12.0)\n",
            "Requirement already satisfied: certifi in /usr/local/lib/python3.6/dist-packages (from kaggle) (2020.6.20)\n",
            "Requirement already satisfied: urllib3<1.25,>=1.21.1 in /usr/local/lib/python3.6/dist-packages (from kaggle) (1.24.3)\n",
            "Requirement already satisfied: python-dateutil in /usr/local/lib/python3.6/dist-packages (from kaggle) (2.8.1)\n",
            "Requirement already satisfied: tqdm in /usr/local/lib/python3.6/dist-packages (from kaggle) (4.41.1)\n",
            "Requirement already satisfied: python-slugify in /usr/local/lib/python3.6/dist-packages (from kaggle) (4.0.1)\n",
            "Requirement already satisfied: chardet<4,>=3.0.2 in /usr/local/lib/python3.6/dist-packages (from requests->kaggle) (3.0.4)\n",
            "Requirement already satisfied: idna<3,>=2.5 in /usr/local/lib/python3.6/dist-packages (from requests->kaggle) (2.10)\n",
            "Requirement already satisfied: text-unidecode>=1.3 in /usr/local/lib/python3.6/dist-packages (from python-slugify->kaggle) (1.3)\n"
          ],
          "name": "stdout"
        }
      ]
    },
    {
      "cell_type": "code",
      "metadata": {
        "id": "3DgjBCgzfgs2",
        "colab_type": "code",
        "colab": {
          "base_uri": "https://localhost:8080/",
          "height": 336
        },
        "outputId": "f31ac56e-ea70-4cd8-a6f5-a4bdad4da92c"
      },
      "source": [
        "!pip install numpy #math operations\n",
        "!pip install catboost #machine learning "
      ],
      "execution_count": null,
      "outputs": [
        {
          "output_type": "stream",
          "text": [
            "Requirement already satisfied: numpy in /usr/local/lib/python3.6/dist-packages (1.18.5)\n",
            "Collecting catboost\n",
            "\u001b[?25l  Downloading https://files.pythonhosted.org/packages/b2/aa/e61819d04ef2bbee778bf4b3a748db1f3ad23512377e43ecfdc3211437a0/catboost-0.23.2-cp36-none-manylinux1_x86_64.whl (64.8MB)\n",
            "\u001b[K     |████████████████████████████████| 64.8MB 64kB/s \n",
            "\u001b[?25hRequirement already satisfied: pandas>=0.24.0 in /usr/local/lib/python3.6/dist-packages (from catboost) (1.0.5)\n",
            "Requirement already satisfied: six in /usr/local/lib/python3.6/dist-packages (from catboost) (1.12.0)\n",
            "Requirement already satisfied: numpy>=1.16.0 in /usr/local/lib/python3.6/dist-packages (from catboost) (1.18.5)\n",
            "Requirement already satisfied: graphviz in /usr/local/lib/python3.6/dist-packages (from catboost) (0.10.1)\n",
            "Requirement already satisfied: plotly in /usr/local/lib/python3.6/dist-packages (from catboost) (4.4.1)\n",
            "Requirement already satisfied: matplotlib in /usr/local/lib/python3.6/dist-packages (from catboost) (3.2.2)\n",
            "Requirement already satisfied: scipy in /usr/local/lib/python3.6/dist-packages (from catboost) (1.4.1)\n",
            "Requirement already satisfied: python-dateutil>=2.6.1 in /usr/local/lib/python3.6/dist-packages (from pandas>=0.24.0->catboost) (2.8.1)\n",
            "Requirement already satisfied: pytz>=2017.2 in /usr/local/lib/python3.6/dist-packages (from pandas>=0.24.0->catboost) (2018.9)\n",
            "Requirement already satisfied: retrying>=1.3.3 in /usr/local/lib/python3.6/dist-packages (from plotly->catboost) (1.3.3)\n",
            "Requirement already satisfied: kiwisolver>=1.0.1 in /usr/local/lib/python3.6/dist-packages (from matplotlib->catboost) (1.2.0)\n",
            "Requirement already satisfied: cycler>=0.10 in /usr/local/lib/python3.6/dist-packages (from matplotlib->catboost) (0.10.0)\n",
            "Requirement already satisfied: pyparsing!=2.0.4,!=2.1.2,!=2.1.6,>=2.0.1 in /usr/local/lib/python3.6/dist-packages (from matplotlib->catboost) (2.4.7)\n",
            "Installing collected packages: catboost\n",
            "Successfully installed catboost-0.23.2\n"
          ],
          "name": "stdout"
        }
      ]
    },
    {
      "cell_type": "code",
      "metadata": {
        "id": "NJgzcSIJhdoL",
        "colab_type": "code",
        "colab": {}
      },
      "source": [
        "import pandas as pd #data preprocessing\n",
        "import numpy as np\n",
        "from catboost import CatBoostRegressor, Pool #machine learning\n",
        "from sklearn.preprocessing import StandardScaler #data scaling(ölçekleme)\n",
        "from sklearn.model_selection import GridSearchCV #hyperparameter optimization\n",
        "from sklearn.svm import NuSVR, SVR  #support vector machine model\n",
        "from sklearn.kernel_ridge import KernelRidge   #improve svm predictions\n",
        "import matplotlib.pyplot as plt  #data visualiziaton"
      ],
      "execution_count": null,
      "outputs": []
    },
    {
      "cell_type": "markdown",
      "metadata": {
        "id": "sOwMJJN3zxlH",
        "colab_type": "text"
      },
      "source": [
        "**Import Dataset from Kaggle**"
      ]
    },
    {
      "cell_type": "code",
      "metadata": {
        "id": "eSaIyp_Uhqww",
        "colab_type": "code",
        "colab": {
          "resources": {
            "http://localhost:8080/nbextensions/google.colab/files.js": {
              "data": "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",
              "ok": true,
              "headers": [
                [
                  "content-type",
                  "application/javascript"
                ]
              ],
              "status": 200,
              "status_text": ""
            }
          },
          "base_uri": "https://localhost:8080/",
          "height": 90
        },
        "outputId": "ac2459b4-26e4-47d4-920a-162d9ac6f610"
      },
      "source": [
        "from google.colab import files  #Colab's file access feature\n",
        "uploaded = files.upload()   #retrieve uploaded file\n",
        "#upload Kaggle JSON File \n",
        "!mkdir -p ~/.kaggle/ && mv kaggle.json ~/.kaggle/ && chmod 600 ~/kaggle/kaggle.json "
      ],
      "execution_count": null,
      "outputs": [
        {
          "output_type": "display_data",
          "data": {
            "text/html": [
              "\n",
              "     <input type=\"file\" id=\"files-d42d2405-82cd-4b35-8cd7-c3718c3e9710\" name=\"files[]\" multiple disabled\n",
              "        style=\"border:none\" />\n",
              "     <output id=\"result-d42d2405-82cd-4b35-8cd7-c3718c3e9710\">\n",
              "      Upload widget is only available when the cell has been executed in the\n",
              "      current browser session. Please rerun this cell to enable.\n",
              "      </output>\n",
              "      <script src=\"/nbextensions/google.colab/files.js\"></script> "
            ],
            "text/plain": [
              "<IPython.core.display.HTML object>"
            ]
          },
          "metadata": {
            "tags": []
          }
        },
        {
          "output_type": "stream",
          "text": [
            "Saving kaggle.json to kaggle.json\n",
            "chmod: cannot access '/root/kaggle/kaggle.json': No such file or directory\n"
          ],
          "name": "stdout"
        }
      ]
    },
    {
      "cell_type": "code",
      "metadata": {
        "id": "VzBcRkJShl0f",
        "colab_type": "code",
        "colab": {
          "base_uri": "https://localhost:8080/",
          "height": 1000
        },
        "outputId": "249be12e-80a2-4ff4-973b-7558875fb508"
      },
      "source": [
        "#download earthquake data\n",
        "!kaggle competitions download -c LANL-Earthquake-Prediction"
      ],
      "execution_count": null,
      "outputs": [
        {
          "output_type": "stream",
          "text": [
            "Warning: Your Kaggle API key is readable by other users on this system! To fix this, you can run 'chmod 600 /root/.kaggle/kaggle.json'\n",
            "Warning: Looks like you're using an outdated API Version, please consider updating (server 1.5.6 / client 1.5.4)\n",
            "Downloading seg_004ee5.csv to /content\n",
            "  0% 0.00/324k [00:00<?, ?B/s]\n",
            "100% 324k/324k [00:00<00:00, 48.5MB/s]\n",
            "Downloading seg_00e5f7.csv to /content\n",
            "  0% 0.00/319k [00:00<?, ?B/s]\n",
            "100% 319k/319k [00:00<00:00, 106MB/s]\n",
            "Downloading seg_00648a.csv to /content\n",
            "  0% 0.00/329k [00:00<?, ?B/s]\n",
            "100% 329k/329k [00:00<00:00, 107MB/s]\n",
            "Downloading seg_00a37e.csv to /content\n",
            "  0% 0.00/332k [00:00<?, ?B/s]\n",
            "100% 332k/332k [00:00<00:00, 45.8MB/s]\n",
            "Downloading seg_004cd2.csv to /content\n",
            "  0% 0.00/315k [00:00<?, ?B/s]\n",
            "100% 315k/315k [00:00<00:00, 103MB/s]\n",
            "Downloading seg_0042cc.csv to /content\n",
            "  0% 0.00/319k [00:00<?, ?B/s]\n",
            "100% 319k/319k [00:00<00:00, 44.4MB/s]\n",
            "Downloading seg_007a37.csv to /content\n",
            "  0% 0.00/325k [00:00<?, ?B/s]\n",
            "100% 325k/325k [00:00<00:00, 45.3MB/s]\n",
            "Downloading seg_00cc91.csv to /content\n",
            "  0% 0.00/329k [00:00<?, ?B/s]\n",
            "100% 329k/329k [00:00<00:00, 108MB/s]\n",
            "Downloading seg_003339.csv to /content\n",
            "  0% 0.00/310k [00:00<?, ?B/s]\n",
            "100% 310k/310k [00:00<00:00, 43.9MB/s]\n",
            "Downloading seg_00be11.csv to /content\n",
            "  0% 0.00/330k [00:00<?, ?B/s]\n",
            "100% 330k/330k [00:00<00:00, 106MB/s]\n",
            "Downloading seg_006e4a.csv to /content\n",
            "  0% 0.00/325k [00:00<?, ?B/s]\n",
            "100% 325k/325k [00:00<00:00, 105MB/s]\n",
            "Downloading seg_00030f.csv to /content\n",
            "  0% 0.00/321k [00:00<?, ?B/s]\n",
            "100% 321k/321k [00:00<00:00, 104MB/s]\n",
            "Downloading seg_004314.csv to /content\n",
            "  0% 0.00/360k [00:00<?, ?B/s]\n",
            "100% 360k/360k [00:00<00:00, 112MB/s]\n",
            "Downloading seg_00f3b9.csv to /content\n",
            "  0% 0.00/336k [00:00<?, ?B/s]\n",
            "100% 336k/336k [00:00<00:00, 46.6MB/s]\n",
            "Downloading seg_0012b5.csv to /content\n",
            "  0% 0.00/321k [00:00<?, ?B/s]\n",
            "100% 321k/321k [00:00<00:00, 103MB/s]\n",
            "Downloading seg_0125d9.csv to /content\n",
            "  0% 0.00/320k [00:00<?, ?B/s]\n",
            "100% 320k/320k [00:00<00:00, 103MB/s]\n",
            "Downloading seg_00c35b.csv to /content\n",
            "  0% 0.00/312k [00:00<?, ?B/s]\n",
            "100% 312k/312k [00:00<00:00, 100MB/s]\n",
            "Downloading seg_00184e.csv to /content\n",
            "  0% 0.00/320k [00:00<?, ?B/s]\n",
            "100% 320k/320k [00:00<00:00, 105MB/s]\n",
            "Downloading seg_004f1f.csv to /content\n",
            "  0% 0.00/324k [00:00<?, ?B/s]\n",
            "100% 324k/324k [00:00<00:00, 100MB/s]\n",
            "Downloading seg_010eab.csv to /content\n",
            "  0% 0.00/316k [00:00<?, ?B/s]\n",
            "100% 316k/316k [00:00<00:00, 97.2MB/s]\n",
            "Downloading train.csv.zip to /content\n",
            "100% 2.02G/2.03G [00:34<00:00, 53.8MB/s]\n",
            "100% 2.03G/2.03G [00:34<00:00, 62.7MB/s]\n",
            "Downloading sample_submission.csv to /content\n",
            "  0% 0.00/33.3k [00:00<?, ?B/s]\n",
            "100% 33.3k/33.3k [00:00<00:00, 29.5MB/s]\n"
          ],
          "name": "stdout"
        }
      ]
    },
    {
      "cell_type": "code",
      "metadata": {
        "id": "sTOGClqQhvFY",
        "colab_type": "code",
        "colab": {
          "base_uri": "https://localhost:8080/",
          "height": 67
        },
        "outputId": "c95a3930-7eac-4598-c116-082382729172"
      },
      "source": [
        "#unzip training data for usage\n",
        "!unzip train.csv.zip"
      ],
      "execution_count": null,
      "outputs": [
        {
          "output_type": "stream",
          "text": [
            "Archive:  train.csv.zip\n",
            "  inflating: train.csv               train.csv\n",
            "\n"
          ],
          "name": "stdout"
        }
      ]
    },
    {
      "cell_type": "markdown",
      "metadata": {
        "id": "OjubJSNhJYtf",
        "colab_type": "text"
      },
      "source": [
        "**Data Analysis**"
      ]
    },
    {
      "cell_type": "code",
      "metadata": {
        "id": "KB-K9jchhynZ",
        "colab_type": "code",
        "colab": {}
      },
      "source": [
        "#train.csv'deki datayı okur, 6milyon data points, ilk data tipi acoustic_data, integer, ikincisi time to failure float. \n",
        "train = pd.read_csv('train.csv', nrows=6000000, dtype = {'acoustic_data': np.int16, 'time_to_failure': np.float64})"
      ],
      "execution_count": null,
      "outputs": []
    },
    {
      "cell_type": "code",
      "metadata": {
        "id": "8X5Qzj6xsLva",
        "colab_type": "code",
        "colab": {
          "base_uri": "https://localhost:8080/",
          "height": 195
        },
        "outputId": "2868d976-f97b-42a7-c49c-709f5e6f3a6b"
      },
      "source": [
        "#dataset'teki ilk 5 örnek\n",
        "train.head(10)\n",
        "#hepsini 1.4691 gösteriyordu. Alttaki koddan sonra hepsinin farklı olduğunu görüyoruz.\n",
        "pd.options.display.precision = 15\n",
        "train.head()"
      ],
      "execution_count": null,
      "outputs": [
        {
          "output_type": "execute_result",
          "data": {
            "text/html": [
              "<div>\n",
              "<style scoped>\n",
              "    .dataframe tbody tr th:only-of-type {\n",
              "        vertical-align: middle;\n",
              "    }\n",
              "\n",
              "    .dataframe tbody tr th {\n",
              "        vertical-align: top;\n",
              "    }\n",
              "\n",
              "    .dataframe thead th {\n",
              "        text-align: right;\n",
              "    }\n",
              "</style>\n",
              "<table border=\"1\" class=\"dataframe\">\n",
              "  <thead>\n",
              "    <tr style=\"text-align: right;\">\n",
              "      <th></th>\n",
              "      <th>acoustic_data</th>\n",
              "      <th>time_to_failure</th>\n",
              "    </tr>\n",
              "  </thead>\n",
              "  <tbody>\n",
              "    <tr>\n",
              "      <th>0</th>\n",
              "      <td>12</td>\n",
              "      <td>1.4690999832</td>\n",
              "    </tr>\n",
              "    <tr>\n",
              "      <th>1</th>\n",
              "      <td>6</td>\n",
              "      <td>1.4690999821</td>\n",
              "    </tr>\n",
              "    <tr>\n",
              "      <th>2</th>\n",
              "      <td>8</td>\n",
              "      <td>1.4690999810</td>\n",
              "    </tr>\n",
              "    <tr>\n",
              "      <th>3</th>\n",
              "      <td>5</td>\n",
              "      <td>1.4690999799</td>\n",
              "    </tr>\n",
              "    <tr>\n",
              "      <th>4</th>\n",
              "      <td>8</td>\n",
              "      <td>1.4690999788</td>\n",
              "    </tr>\n",
              "  </tbody>\n",
              "</table>\n",
              "</div>"
            ],
            "text/plain": [
              "   acoustic_data  time_to_failure\n",
              "0             12     1.4690999832\n",
              "1              6     1.4690999821\n",
              "2              8     1.4690999810\n",
              "3              5     1.4690999799\n",
              "4              8     1.4690999788"
            ]
          },
          "metadata": {
            "tags": []
          },
          "execution_count": 9
        }
      ]
    },
    {
      "cell_type": "code",
      "metadata": {
        "id": "WTSXEcHzLac8",
        "colab_type": "code",
        "colab": {
          "base_uri": "https://localhost:8080/",
          "height": 499
        },
        "outputId": "200438e0-c0b1-41e7-fb2c-349916308d26"
      },
      "source": [
        "#visualize of 1% of dataset, first 100 datapoints\n",
        "train_ad_sample_df = train['acoustic_data'].values[::100]\n",
        "train_ttf_sample_df = train['time_to_failure'].values[::100]\n",
        "\n",
        "def plot_acc_ttf_data(train_ad_sample_df, train_ttf_sample_df, title = \"Acoustic data and time to failure: 1% sampled data\"):\n",
        "    fig, ax1 = plt.subplots(figsize=(12, 8))\n",
        "    plt.title(title)\n",
        "    plt.plot(train_ad_sample_df, color='r')\n",
        "    ax1.set_ylabel('acoustic data', color='r')\n",
        "    plt.legend(['acoustic data'], loc=(0.01, 0.95))\n",
        "    ax2 = ax1.twinx()\n",
        "    plt.plot(train_ttf_sample_df, color='b')\n",
        "    ax2.set_ylabel('time to failure', color='b')\n",
        "    plt.legend(['time to failure'], loc=(0.01, 0.9))\n",
        "    plt.grid(True)\n",
        "\n",
        "plot_acc_ttf_data(train_ad_sample_df, train_ttf_sample_df)\n",
        "del train_ad_sample_df\n",
        "del train_ttf_sample_df\n",
        "\n",
        "#There is a point before the actual earthquake \n",
        "#where there's a spike in acoustic activity seismographic activity."
      ],
      "execution_count": null,
      "outputs": [
        {
          "output_type": "display_data",
          "data": {
            "image/png": "[encoded data removed]",
            "text/plain": [
              "<Figure size 864x576 with 2 Axes>"
            ]
          },
          "metadata": {
            "tags": [],
            "needs_background": "light"
          }
        }
      ]
    },
    {
      "cell_type": "markdown",
      "metadata": {
        "id": "xOgKrzuRW3U_",
        "colab_type": "text"
      },
      "source": [
        "Visualize all of the data\n",
        "\n",
        "![image](https://drive.google.com/uc?export=view&id=1eEbV1lEoEm0rR3qoUvNYYK5_bzj-vK66)\n"
      ]
    },
    {
      "cell_type": "code",
      "metadata": {
        "id": "S58ymtK7lNcE",
        "colab_type": "code",
        "colab": {}
      },
      "source": [
        "import numpy as np # linear algebra\n",
        "import pandas as pd\n",
        "import matplotlib.pyplot as plt\n",
        "from tqdm import tqdm\n",
        "from sklearn.preprocessing import StandardScaler\n",
        "from sklearn.svm import NuSVR\n",
        "from sklearn.metrics import mean_absolute_error"
      ],
      "execution_count": null,
      "outputs": []
    },
    {
      "cell_type": "code",
      "metadata": {
        "id": "u2yMH4OePvR-",
        "colab_type": "code",
        "colab": {}
      },
      "source": [
        "train = pd.read_csv('train.csv',nrows=600000000, dtype={'acoustic_data': np.int16, 'time_to_failure': np.float64})"
      ],
      "execution_count": null,
      "outputs": []
    },
    {
      "cell_type": "code",
      "metadata": {
        "id": "FjOs_3NSlHI5",
        "colab_type": "code",
        "colab": {
          "base_uri": "https://localhost:8080/",
          "height": 195
        },
        "outputId": "b0e90d55-c9fe-4917-9b23-4e924239806f"
      },
      "source": [
        "#dataset'teki ilk 5 örnek\n",
        "pd.options.display.precision = 15\n",
        "train.head()"
      ],
      "execution_count": null,
      "outputs": [
        {
          "output_type": "execute_result",
          "data": {
            "text/html": [
              "<div>\n",
              "<style scoped>\n",
              "    .dataframe tbody tr th:only-of-type {\n",
              "        vertical-align: middle;\n",
              "    }\n",
              "\n",
              "    .dataframe tbody tr th {\n",
              "        vertical-align: top;\n",
              "    }\n",
              "\n",
              "    .dataframe thead th {\n",
              "        text-align: right;\n",
              "    }\n",
              "</style>\n",
              "<table border=\"1\" class=\"dataframe\">\n",
              "  <thead>\n",
              "    <tr style=\"text-align: right;\">\n",
              "      <th></th>\n",
              "      <th>acoustic_data</th>\n",
              "      <th>time_to_failure</th>\n",
              "    </tr>\n",
              "  </thead>\n",
              "  <tbody>\n",
              "    <tr>\n",
              "      <th>0</th>\n",
              "      <td>12</td>\n",
              "      <td>1.4690999832</td>\n",
              "    </tr>\n",
              "    <tr>\n",
              "      <th>1</th>\n",
              "      <td>6</td>\n",
              "      <td>1.4690999821</td>\n",
              "    </tr>\n",
              "    <tr>\n",
              "      <th>2</th>\n",
              "      <td>8</td>\n",
              "      <td>1.4690999810</td>\n",
              "    </tr>\n",
              "    <tr>\n",
              "      <th>3</th>\n",
              "      <td>5</td>\n",
              "      <td>1.4690999799</td>\n",
              "    </tr>\n",
              "    <tr>\n",
              "      <th>4</th>\n",
              "      <td>8</td>\n",
              "      <td>1.4690999788</td>\n",
              "    </tr>\n",
              "  </tbody>\n",
              "</table>\n",
              "</div>"
            ],
            "text/plain": [
              "   acoustic_data  time_to_failure\n",
              "0             12     1.4690999832\n",
              "1              6     1.4690999821\n",
              "2              8     1.4690999810\n",
              "3              5     1.4690999799\n",
              "4              8     1.4690999788"
            ]
          },
          "metadata": {
            "tags": []
          },
          "execution_count": 13
        }
      ]
    },
    {
      "cell_type": "code",
      "metadata": {
        "id": "ueXBaECasn2U",
        "colab_type": "code",
        "colab": {}
      },
      "source": [
        "import matplotlib.pyplot as plt\n",
        "from tqdm import tqdm\n",
        "from sklearn.preprocessing import StandardScaler\n",
        "from sklearn.svm import NuSVR\n",
        "from sklearn.metrics import mean_absolute_error"
      ],
      "execution_count": null,
      "outputs": []
    },
    {
      "cell_type": "code",
      "metadata": {
        "id": "0txsH5lMlfGT",
        "colab_type": "code",
        "colab": {
          "base_uri": "https://localhost:8080/",
          "height": 34
        },
        "outputId": "9d46eb53-66e6-425f-e53e-5ccbcfee0b89"
      },
      "source": [
        "# Create a training file with simple derived features\n",
        "\n",
        "rows = 150_000\n",
        "segments = int(np.floor(train.shape[0] / rows))   #6 milyon / 150bin\n",
        "#SVM'nin tahminlerde bulunması için segmentlere böleriz\n",
        "X_train = pd.DataFrame(index=range(segments), dtype=np.float64,\n",
        "                       columns=['ave', 'std', 'max', 'min'])\n",
        "y_train = pd.DataFrame(index=range(segments), dtype=np.float64,\n",
        "                       columns=['time_to_failure'])\n",
        "\n",
        "for segment in tqdm(range(segments)):\n",
        "    seg = train.iloc[segment*rows:segment*rows+rows]\n",
        "    x = seg['acoustic_data'].values\n",
        "    y = seg['time_to_failure'].values[-1]\n",
        "    \n",
        "    y_train.loc[segment, 'time_to_failure'] = y\n",
        "    \n",
        "    X_train.loc[segment, 'ave'] = x.mean()\n",
        "    X_train.loc[segment, 'std'] = x.std()   #standart sapma\n",
        "    X_train.loc[segment, 'max'] = x.max()\n",
        "    X_train.loc[segment, 'min'] = x.min()"
      ],
      "execution_count": null,
      "outputs": [
        {
          "output_type": "stream",
          "text": [
            "100%|██████████| 4000/4000 [00:09<00:00, 414.15it/s]\n"
          ],
          "name": "stderr"
        }
      ]
    },
    {
      "cell_type": "code",
      "metadata": {
        "id": "o-dabkSRllmB",
        "colab_type": "code",
        "colab": {
          "base_uri": "https://localhost:8080/",
          "height": 195
        },
        "outputId": "a1746041-5df6-4172-ceec-f23147180a6a"
      },
      "source": [
        "X_train.head()"
      ],
      "execution_count": null,
      "outputs": [
        {
          "output_type": "execute_result",
          "data": {
            "text/html": [
              "<div>\n",
              "<style scoped>\n",
              "    .dataframe tbody tr th:only-of-type {\n",
              "        vertical-align: middle;\n",
              "    }\n",
              "\n",
              "    .dataframe tbody tr th {\n",
              "        vertical-align: top;\n",
              "    }\n",
              "\n",
              "    .dataframe thead th {\n",
              "        text-align: right;\n",
              "    }\n",
              "</style>\n",
              "<table border=\"1\" class=\"dataframe\">\n",
              "  <thead>\n",
              "    <tr style=\"text-align: right;\">\n",
              "      <th></th>\n",
              "      <th>ave</th>\n",
              "      <th>std</th>\n",
              "      <th>max</th>\n",
              "      <th>min</th>\n",
              "    </tr>\n",
              "  </thead>\n",
              "  <tbody>\n",
              "    <tr>\n",
              "      <th>0</th>\n",
              "      <td>4.884113333333334</td>\n",
              "      <td>5.101089126891323</td>\n",
              "      <td>104.0</td>\n",
              "      <td>-98.0</td>\n",
              "    </tr>\n",
              "    <tr>\n",
              "      <th>1</th>\n",
              "      <td>4.725766666666667</td>\n",
              "      <td>6.588801819164257</td>\n",
              "      <td>181.0</td>\n",
              "      <td>-154.0</td>\n",
              "    </tr>\n",
              "    <tr>\n",
              "      <th>2</th>\n",
              "      <td>4.906393333333333</td>\n",
              "      <td>6.967373808828945</td>\n",
              "      <td>140.0</td>\n",
              "      <td>-106.0</td>\n",
              "    </tr>\n",
              "    <tr>\n",
              "      <th>3</th>\n",
              "      <td>4.902240000000000</td>\n",
              "      <td>6.922282112791032</td>\n",
              "      <td>197.0</td>\n",
              "      <td>-199.0</td>\n",
              "    </tr>\n",
              "    <tr>\n",
              "      <th>4</th>\n",
              "      <td>4.908720000000000</td>\n",
              "      <td>7.301085852684289</td>\n",
              "      <td>145.0</td>\n",
              "      <td>-126.0</td>\n",
              "    </tr>\n",
              "  </tbody>\n",
              "</table>\n",
              "</div>"
            ],
            "text/plain": [
              "                 ave                std    max    min\n",
              "0  4.884113333333334  5.101089126891323  104.0  -98.0\n",
              "1  4.725766666666667  6.588801819164257  181.0 -154.0\n",
              "2  4.906393333333333  6.967373808828945  140.0 -106.0\n",
              "3  4.902240000000000  6.922282112791032  197.0 -199.0\n",
              "4  4.908720000000000  7.301085852684289  145.0 -126.0"
            ]
          },
          "metadata": {
            "tags": []
          },
          "execution_count": 16
        }
      ]
    },
    {
      "cell_type": "code",
      "metadata": {
        "id": "gmGYoqkAlru5",
        "colab_type": "code",
        "colab": {
          "base_uri": "https://localhost:8080/",
          "height": 395
        },
        "outputId": "a92c54ec-81e4-4dad-e0c5-8c0a16440628"
      },
      "source": [
        "scaler = StandardScaler()\n",
        "scaler.fit(X_train)\n",
        "X_train_scaled = scaler.transform(X_train)\n",
        "\n",
        "svm = NuSVR()\n",
        "svm.fit(X_train_scaled, y_train.values.flatten())\n",
        "y_pred = svm.predict(X_train_scaled)\n",
        "\n",
        "plt.figure(figsize=(6, 6))\n",
        "plt.scatter(y_train.values.flatten(), y_pred)\n",
        "plt.xlim(0, 20)\n",
        "plt.ylim(0, 20)\n",
        "plt.xlabel('actual', fontsize=12)\n",
        "plt.ylabel('predicted', fontsize=12)\n",
        "plt.plot([(0, 0), (20, 20)], [(0, 0), (20, 20)])\n",
        "plt.show()\n",
        "\n",
        "#https://www.kaggle.com/inversion/basic-feature-benchmark"
      ],
      "execution_count": null,
      "outputs": [
        {
          "output_type": "display_data",
          "data": {
            "image/png": "[encoded data removed]",
            "text/plain": [
              "<Figure size 432x432 with 1 Axes>"
            ]
          },
          "metadata": {
            "tags": [],
            "needs_background": "light"
          }
        }
      ]
    },
    {
      "cell_type": "code",
      "metadata": {
        "id": "szXxRa6xltnR",
        "colab_type": "code",
        "colab": {
          "base_uri": "https://localhost:8080/",
          "height": 34
        },
        "outputId": "abedef11-3f82-4e46-bb68-91f44579f31f"
      },
      "source": [
        "#Mean Absolute Error as Loss Function\n",
        "score = mean_absolute_error(y_train.values.flatten(), y_pred)\n",
        "print(f'Score: {score:0.3f}')\n",
        "#Bu değer 0'a ne kadar yakınsa gerçek değerlere o kadar yaklaştığımızı anlarız."
      ],
      "execution_count": null,
      "outputs": [
        {
          "output_type": "stream",
          "text": [
            "Score: 2.321\n"
          ],
          "name": "stdout"
        }
      ]
    },
    {
      "cell_type": "code",
      "metadata": {
        "id": "HkhaiXXK_AQV",
        "colab_type": "code",
        "colab": {
          "base_uri": "https://localhost:8080/",
          "height": 121
        },
        "outputId": "9d16de28-d607-4656-af2e-64b41015843e"
      },
      "source": [
        "from google.colab import drive\n",
        "drive.mount('/content/drive/')"
      ],
      "execution_count": null,
      "outputs": [
        {
          "output_type": "stream",
          "text": [
            "Go to this URL in a browser: https://accounts.google.com/o/oauth2/auth?client_id=947318989803-6bn6qk8qdgf4n4g3pfee6491hc0brc4i.apps.googleusercontent.com&redirect_uri=urn%3aietf%3awg%3aoauth%3a2.0%3aoob&response_type=code&scope=email%20https%3a%2f%2fwww.googleapis.com%2fauth%2fdocs.test%20https%3a%2f%2fwww.googleapis.com%2fauth%2fdrive%20https%3a%2f%2fwww.googleapis.com%2fauth%2fdrive.photos.readonly%20https%3a%2f%2fwww.googleapis.com%2fauth%2fpeopleapi.readonly\n",
            "\n",
            "Enter your authorization code:\n",
            "··········\n",
            "Mounted at /content/drive/\n"
          ],
          "name": "stdout"
        }
      ]
    },
    {
      "cell_type": "code",
      "metadata": {
        "id": "8eE0NJIi4heP",
        "colab_type": "code",
        "colab": {}
      },
      "source": [
        "submission = pd.read_csv('../content/drive/My Drive/input/sample_submission.csv', index_col='seg_id')"
      ],
      "execution_count": null,
      "outputs": []
    },
    {
      "cell_type": "code",
      "metadata": {
        "id": "zsJ6b5xg4nXp",
        "colab_type": "code",
        "colab": {}
      },
      "source": [
        "X_test = pd.DataFrame(columns=X_train.columns, dtype=np.float64, index=submission.index)"
      ],
      "execution_count": null,
      "outputs": []
    },
    {
      "cell_type": "code",
      "metadata": {
        "id": "qtG3LgyV4q4O",
        "colab_type": "code",
        "colab": {}
      },
      "source": [
        "for seg_id in X_test.index:\n",
        "    seg = pd.read_csv('../content/drive/My Drive/input/test/' + seg_id + '.csv')\n",
        "    \n",
        "    x = seg['acoustic_data'].values\n",
        "    \n",
        "    X_test.loc[seg_id, 'ave'] = x.mean()\n",
        "    X_test.loc[seg_id, 'std'] = x.std()\n",
        "    X_test.loc[seg_id, 'max'] = x.max()\n",
        "    X_test.loc[seg_id, 'min'] = x.min()"
      ],
      "execution_count": null,
      "outputs": []
    },
    {
      "cell_type": "code",
      "metadata": {
        "id": "pmZ1mEeJ4rZb",
        "colab_type": "code",
        "colab": {
          "base_uri": "https://localhost:8080/",
          "height": 225
        },
        "outputId": "e5d46eb4-30cb-49b4-ea97-b91a1a511054"
      },
      "source": [
        "X_test_scaled = scaler.transform(X_test)\n",
        "submission['time_to_failure'] = svm.predict(X_test_scaled)\n",
        "submission.to_csv('submission.csv')\n",
        "submission.head()"
      ],
      "execution_count": null,
      "outputs": [
        {
          "output_type": "execute_result",
          "data": {
            "text/html": [
              "<div>\n",
              "<style scoped>\n",
              "    .dataframe tbody tr th:only-of-type {\n",
              "        vertical-align: middle;\n",
              "    }\n",
              "\n",
              "    .dataframe tbody tr th {\n",
              "        vertical-align: top;\n",
              "    }\n",
              "\n",
              "    .dataframe thead th {\n",
              "        text-align: right;\n",
              "    }\n",
              "</style>\n",
              "<table border=\"1\" class=\"dataframe\">\n",
              "  <thead>\n",
              "    <tr style=\"text-align: right;\">\n",
              "      <th></th>\n",
              "      <th>time_to_failure</th>\n",
              "    </tr>\n",
              "    <tr>\n",
              "      <th>seg_id</th>\n",
              "      <th></th>\n",
              "    </tr>\n",
              "  </thead>\n",
              "  <tbody>\n",
              "    <tr>\n",
              "      <th>seg_00030f</th>\n",
              "      <td>6.421775209945157</td>\n",
              "    </tr>\n",
              "    <tr>\n",
              "      <th>seg_0012b5</th>\n",
              "      <td>6.072255955029233</td>\n",
              "    </tr>\n",
              "    <tr>\n",
              "      <th>seg_00184e</th>\n",
              "      <td>4.764736718860900</td>\n",
              "    </tr>\n",
              "    <tr>\n",
              "      <th>seg_003339</th>\n",
              "      <td>7.641821207732189</td>\n",
              "    </tr>\n",
              "    <tr>\n",
              "      <th>seg_0042cc</th>\n",
              "      <td>6.506883786266625</td>\n",
              "    </tr>\n",
              "  </tbody>\n",
              "</table>\n",
              "</div>"
            ],
            "text/plain": [
              "              time_to_failure\n",
              "seg_id                       \n",
              "seg_00030f  6.421775209945157\n",
              "seg_0012b5  6.072255955029233\n",
              "seg_00184e  4.764736718860900\n",
              "seg_003339  7.641821207732189\n",
              "seg_0042cc  6.506883786266625"
            ]
          },
          "metadata": {
            "tags": []
          },
          "execution_count": 37
        }
      ]
    }
  ]
}
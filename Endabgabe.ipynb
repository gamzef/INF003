{
  "nbformat": 4,
  "nbformat_minor": 0,
  "metadata": {
    "colab": {
      "name": "Endabgabe.ipynb",
      "provenance": [],
      "collapsed_sections": [],
      "authorship_tag": "ABX9TyO9Y7qjsLPgpDKUuqQu/r+Q",
      "include_colab_link": true
    },
    "kernelspec": {
      "name": "python3",
      "display_name": "Python 3"
    }
  },
  "cells": [
    {
      "cell_type": "markdown",
      "metadata": {
        "id": "view-in-github",
        "colab_type": "text"
      },
      "source": [
        "<a href=\"https://colab.research.google.com/github/gamzef/INF003/blob/master/Endabgabe.ipynb\" target=\"_parent\"><img src=\"https://colab.research.google.com/assets/colab-badge.svg\" alt=\"Open In Colab\"/></a>"
      ]
    },
    {
      "cell_type": "code",
      "metadata": {
        "id": "wJe59wBYrW1a",
        "colab_type": "code",
        "colab": {}
      },
      "source": [
        "#As stated in the description, the data for this competition comes from a experimental set-up used to study earthquake physics. \n",
        "#Our goal is to predict the time remaining before the next laboratory earthquake. \n",
        "#The only feature we have is the seismic signal (acoustic data), which is recorded using a piezoceramic sensor and corresponds to the voltage upon deformation (in integers).\n",
        "#Training data: single, continuous segment of experimental data.\n",
        "\n",
        "#Test data: consists of a folder containing many small segments. The data within each test file is continuous, but the test files do not represent a continuous segment of the experiment.\n",
        "\n",
        "#Both the training and the testing set come from the same experiment.\n",
        "\n",
        "#There is no overlap between the training and testing sets."
      ],
      "execution_count": null,
      "outputs": []
    },
    {
      "cell_type": "code",
      "metadata": {
        "id": "pHbelyKDexrF",
        "colab_type": "code",
        "colab": {
          "base_uri": "https://localhost:8080/",
          "height": 34
        },
        "outputId": "1119ed51-afb6-4bf6-e76c-0268b30d22e3"
      },
      "source": [
        "import numpy as np\n",
        "import pandas as pd\n",
        "import os\n",
        "import gc\n",
        "import matplotlib.pyplot as plt\n",
        "from tqdm import tqdm\n",
        "from sklearn.preprocessing import StandardScaler\n",
        "from keras.models import Sequential\n",
        "from keras.layers import Dense"
      ],
      "execution_count": 1,
      "outputs": [
        {
          "output_type": "stream",
          "text": [
            "Using TensorFlow backend.\n"
          ],
          "name": "stderr"
        }
      ]
    },
    {
      "cell_type": "code",
      "metadata": {
        "id": "n84XZTFP7BgQ",
        "colab_type": "code",
        "colab": {
          "base_uri": "https://localhost:8080/",
          "height": 34
        },
        "outputId": "c53dfcb4-a781-41dc-db16-196f66317b73"
      },
      "source": [
        "os.listdir('../content/drive/My Drive/input/')"
      ],
      "execution_count": 2,
      "outputs": [
        {
          "output_type": "execute_result",
          "data": {
            "text/plain": [
              "['sample_submission.csv', 'test']"
            ]
          },
          "metadata": {
            "tags": []
          },
          "execution_count": 2
        }
      ]
    },
    {
      "cell_type": "code",
      "metadata": {
        "id": "S1FIcfrHe3MN",
        "colab_type": "code",
        "colab": {
          "base_uri": "https://localhost:8080/",
          "height": 34
        },
        "outputId": "1182ccb6-dceb-4c5b-c54c-a809918cfd50"
      },
      "source": [
        "from google.colab import drive\n",
        "drive.mount('/content/drive/')"
      ],
      "execution_count": 3,
      "outputs": [
        {
          "output_type": "stream",
          "text": [
            "Drive already mounted at /content/drive/; to attempt to forcibly remount, call drive.mount(\"/content/drive/\", force_remount=True).\n"
          ],
          "name": "stdout"
        }
      ]
    },
    {
      "cell_type": "code",
      "metadata": {
        "id": "22AuQ4rPfjzK",
        "colab_type": "code",
        "colab": {
          "resources": {
            "http://localhost:8080/nbextensions/google.colab/files.js": {
              "data": "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",
              "ok": true,
              "headers": [
                [
                  "content-type",
                  "application/javascript"
                ]
              ],
              "status": 200,
              "status_text": ""
            }
          },
          "base_uri": "https://localhost:8080/",
          "height": 90
        },
        "outputId": "44394941-74e2-4b2b-e6d7-e3f94ef6d02d"
      },
      "source": [
        "from google.colab import files  #Colab's file access feature\n",
        "uploaded = files.upload()   #retrieve uploaded file\n",
        "#upload Kaggle JSON File \n",
        "!mkdir -p ~/.kaggle/ && mv kaggle.json ~/.kaggle/ && chmod 600 ~/kaggle/kaggle.json "
      ],
      "execution_count": 4,
      "outputs": [
        {
          "output_type": "display_data",
          "data": {
            "text/html": [
              "\n",
              "     <input type=\"file\" id=\"files-2b70a8c7-c6dc-4d8e-b4d3-7b1930d9a161\" name=\"files[]\" multiple disabled\n",
              "        style=\"border:none\" />\n",
              "     <output id=\"result-2b70a8c7-c6dc-4d8e-b4d3-7b1930d9a161\">\n",
              "      Upload widget is only available when the cell has been executed in the\n",
              "      current browser session. Please rerun this cell to enable.\n",
              "      </output>\n",
              "      <script src=\"/nbextensions/google.colab/files.js\"></script> "
            ],
            "text/plain": [
              "<IPython.core.display.HTML object>"
            ]
          },
          "metadata": {
            "tags": []
          }
        },
        {
          "output_type": "stream",
          "text": [
            "Saving kaggle.json to kaggle.json\n",
            "chmod: cannot access '/root/kaggle/kaggle.json': No such file or directory\n"
          ],
          "name": "stdout"
        }
      ]
    },
    {
      "cell_type": "code",
      "metadata": {
        "id": "zBCDcjzufop-",
        "colab_type": "code",
        "colab": {
          "base_uri": "https://localhost:8080/",
          "height": 420
        },
        "outputId": "abdc6753-18a5-4c9e-fd9e-bf7573c225be"
      },
      "source": [
        "#download earthquake data\n",
        "!kaggle competitions download -c LANL-Earthquake-Prediction"
      ],
      "execution_count": 5,
      "outputs": [
        {
          "output_type": "stream",
          "text": [
            "Warning: Your Kaggle API key is readable by other users on this system! To fix this, you can run 'chmod 600 /root/.kaggle/kaggle.json'\n",
            "Warning: Looks like you're using an outdated API Version, please consider updating (server 1.5.6 / client 1.5.4)\n",
            "seg_004cd2.csv: Skipping, found more recently modified local copy (use --force to force download)\n",
            "seg_00be11.csv: Skipping, found more recently modified local copy (use --force to force download)\n",
            "seg_004f1f.csv: Skipping, found more recently modified local copy (use --force to force download)\n",
            "seg_00648a.csv: Skipping, found more recently modified local copy (use --force to force download)\n",
            "seg_007a37.csv: Skipping, found more recently modified local copy (use --force to force download)\n",
            "seg_0042cc.csv: Skipping, found more recently modified local copy (use --force to force download)\n",
            "seg_00a37e.csv: Skipping, found more recently modified local copy (use --force to force download)\n",
            "seg_003339.csv: Skipping, found more recently modified local copy (use --force to force download)\n",
            "seg_0125d9.csv: Skipping, found more recently modified local copy (use --force to force download)\n",
            "seg_00cc91.csv: Skipping, found more recently modified local copy (use --force to force download)\n",
            "seg_0012b5.csv: Skipping, found more recently modified local copy (use --force to force download)\n",
            "seg_00f3b9.csv: Skipping, found more recently modified local copy (use --force to force download)\n",
            "seg_006e4a.csv: Skipping, found more recently modified local copy (use --force to force download)\n",
            "seg_00184e.csv: Skipping, found more recently modified local copy (use --force to force download)\n",
            "seg_00e5f7.csv: Skipping, found more recently modified local copy (use --force to force download)\n",
            "seg_004314.csv: Skipping, found more recently modified local copy (use --force to force download)\n",
            "seg_00c35b.csv: Skipping, found more recently modified local copy (use --force to force download)\n",
            "seg_010eab.csv: Skipping, found more recently modified local copy (use --force to force download)\n",
            "seg_00030f.csv: Skipping, found more recently modified local copy (use --force to force download)\n",
            "seg_004ee5.csv: Skipping, found more recently modified local copy (use --force to force download)\n",
            "sample_submission.csv: Skipping, found more recently modified local copy (use --force to force download)\n",
            "train.csv.zip: Skipping, found more recently modified local copy (use --force to force download)\n"
          ],
          "name": "stdout"
        }
      ]
    },
    {
      "cell_type": "code",
      "metadata": {
        "id": "T9HeJqcbfrJ3",
        "colab_type": "code",
        "colab": {
          "base_uri": "https://localhost:8080/",
          "height": 84
        },
        "outputId": "80bb44f3-d217-419e-b6a6-9c952d5a92bc"
      },
      "source": [
        "#unzip training data for usage\n",
        "!unzip train.csv.zip"
      ],
      "execution_count": 6,
      "outputs": [
        {
          "output_type": "stream",
          "text": [
            "Archive:  train.csv.zip\n",
            "replace train.csv? [y]es, [n]o, [A]ll, [N]one, [r]ename: y\n",
            "  inflating: train.csv               train.csv\n",
            "\n"
          ],
          "name": "stdout"
        }
      ]
    },
    {
      "cell_type": "code",
      "metadata": {
        "id": "DfLltUY1f6Bq",
        "colab_type": "code",
        "colab": {}
      },
      "source": [
        "#train.csv'deki datayı okur, ilk data tipi acoustic_data, integer, ikincisi time to failure float. \n",
        "train_data = pd.read_csv('train.csv', nrows=10, dtype = {'acoustic_data': np.int16, 'time_to_failure': np.float32})"
      ],
      "execution_count": 7,
      "outputs": []
    },
    {
      "cell_type": "code",
      "metadata": {
        "id": "TwJRnFCAfRhj",
        "colab_type": "code",
        "colab": {
          "base_uri": "https://localhost:8080/",
          "height": 195
        },
        "outputId": "5b2a5498-5c29-46d5-97a7-570ae6497bdb"
      },
      "source": [
        "pd.options.display.precision = 15\n",
        "train_data.head()"
      ],
      "execution_count": 8,
      "outputs": [
        {
          "output_type": "execute_result",
          "data": {
            "text/html": [
              "<div>\n",
              "<style scoped>\n",
              "    .dataframe tbody tr th:only-of-type {\n",
              "        vertical-align: middle;\n",
              "    }\n",
              "\n",
              "    .dataframe tbody tr th {\n",
              "        vertical-align: top;\n",
              "    }\n",
              "\n",
              "    .dataframe thead th {\n",
              "        text-align: right;\n",
              "    }\n",
              "</style>\n",
              "<table border=\"1\" class=\"dataframe\">\n",
              "  <thead>\n",
              "    <tr style=\"text-align: right;\">\n",
              "      <th></th>\n",
              "      <th>acoustic_data</th>\n",
              "      <th>time_to_failure</th>\n",
              "    </tr>\n",
              "  </thead>\n",
              "  <tbody>\n",
              "    <tr>\n",
              "      <th>0</th>\n",
              "      <td>12</td>\n",
              "      <td>1.469099998474121</td>\n",
              "    </tr>\n",
              "    <tr>\n",
              "      <th>1</th>\n",
              "      <td>6</td>\n",
              "      <td>1.469099998474121</td>\n",
              "    </tr>\n",
              "    <tr>\n",
              "      <th>2</th>\n",
              "      <td>8</td>\n",
              "      <td>1.469099998474121</td>\n",
              "    </tr>\n",
              "    <tr>\n",
              "      <th>3</th>\n",
              "      <td>5</td>\n",
              "      <td>1.469099998474121</td>\n",
              "    </tr>\n",
              "    <tr>\n",
              "      <th>4</th>\n",
              "      <td>8</td>\n",
              "      <td>1.469099998474121</td>\n",
              "    </tr>\n",
              "  </tbody>\n",
              "</table>\n",
              "</div>"
            ],
            "text/plain": [
              "   acoustic_data    time_to_failure\n",
              "0             12  1.469099998474121\n",
              "1              6  1.469099998474121\n",
              "2              8  1.469099998474121\n",
              "3              5  1.469099998474121\n",
              "4              8  1.469099998474121"
            ]
          },
          "metadata": {
            "tags": []
          },
          "execution_count": 8
        }
      ]
    },
    {
      "cell_type": "code",
      "metadata": {
        "id": "kiygt_8lfa95",
        "colab_type": "code",
        "colab": {}
      },
      "source": [
        "#import\n",
        "train_data = pd.read_csv('train.csv',dtype = {'acoustic_data':np.int16,'time_to_failure':np.float32})"
      ],
      "execution_count": 9,
      "outputs": []
    },
    {
      "cell_type": "code",
      "metadata": {
        "id": "xHh5_yBhjfSU",
        "colab_type": "code",
        "colab": {}
      },
      "source": [
        "rows = 150000\n",
        "segments = int(np.floor(train_data.shape[0] / rows))  #6 milyon / 150000 = 4194\n",
        "\n",
        "X_train = pd.DataFrame(index = range(segments),dtype = np.float32,columns = ['mean','std','99quat','50quat','25quat','1quat'])\n",
        "y_train = pd.DataFrame(index = range(segments),dtype = np.float32,columns = ['time_to_failure'])"
      ],
      "execution_count": 10,
      "outputs": []
    },
    {
      "cell_type": "code",
      "metadata": {
        "id": "sF0SPAvKjj8E",
        "colab_type": "code",
        "colab": {
          "base_uri": "https://localhost:8080/",
          "height": 34
        },
        "outputId": "c3afd672-994a-4da3-f721-a6e779d71d7d"
      },
      "source": [
        "for segment in tqdm(range(segments)):\n",
        "    x = train_data[segment*rows:segment*rows+rows]\n",
        "    y = x['time_to_failure'].values[-1]\n",
        "    x = x['acoustic_data'].values\n",
        "    X_train.loc[segment,'mean'] = np.mean(x)\n",
        "    X_train.loc[segment,'std']  = np.std(x)\n",
        "    X_train.loc[segment,'99quat'] = np.quantile(x,0.99)\n",
        "    X_train.loc[segment,'50quat'] = np.quantile(x,0.5)\n",
        "    X_train.loc[segment,'25quat'] = np.quantile(x,0.25)\n",
        "    X_train.loc[segment,'1quat'] =  np.quantile(x,0.01)\n",
        "    y_train.loc[segment,'time_to_failure'] = y\n"
      ],
      "execution_count": 11,
      "outputs": [
        {
          "output_type": "stream",
          "text": [
            "100%|██████████| 4194/4194 [00:42<00:00, 99.17it/s]\n"
          ],
          "name": "stderr"
        }
      ]
    },
    {
      "cell_type": "code",
      "metadata": {
        "id": "WQB-HRtts4TS",
        "colab_type": "code",
        "colab": {
          "base_uri": "https://localhost:8080/",
          "height": 195
        },
        "outputId": "79daec59-ebb1-4997-908b-6c22947c6998"
      },
      "source": [
        "X_train.head()"
      ],
      "execution_count": 29,
      "outputs": [
        {
          "output_type": "execute_result",
          "data": {
            "text/html": [
              "<div>\n",
              "<style scoped>\n",
              "    .dataframe tbody tr th:only-of-type {\n",
              "        vertical-align: middle;\n",
              "    }\n",
              "\n",
              "    .dataframe tbody tr th {\n",
              "        vertical-align: top;\n",
              "    }\n",
              "\n",
              "    .dataframe thead th {\n",
              "        text-align: right;\n",
              "    }\n",
              "</style>\n",
              "<table border=\"1\" class=\"dataframe\">\n",
              "  <thead>\n",
              "    <tr style=\"text-align: right;\">\n",
              "      <th></th>\n",
              "      <th>mean</th>\n",
              "      <th>std</th>\n",
              "      <th>99quat</th>\n",
              "      <th>50quat</th>\n",
              "      <th>25quat</th>\n",
              "      <th>1quat</th>\n",
              "    </tr>\n",
              "  </thead>\n",
              "  <tbody>\n",
              "    <tr>\n",
              "      <th>0</th>\n",
              "      <td>4.884113311767578</td>\n",
              "      <td>5.101089000701904</td>\n",
              "      <td>18.0</td>\n",
              "      <td>5.0</td>\n",
              "      <td>3.0</td>\n",
              "      <td>-8.0</td>\n",
              "    </tr>\n",
              "    <tr>\n",
              "      <th>1</th>\n",
              "      <td>4.725766658782959</td>\n",
              "      <td>6.588801860809326</td>\n",
              "      <td>21.0</td>\n",
              "      <td>5.0</td>\n",
              "      <td>2.0</td>\n",
              "      <td>-11.0</td>\n",
              "    </tr>\n",
              "    <tr>\n",
              "      <th>2</th>\n",
              "      <td>4.906393527984619</td>\n",
              "      <td>6.967373847961426</td>\n",
              "      <td>26.0</td>\n",
              "      <td>5.0</td>\n",
              "      <td>2.0</td>\n",
              "      <td>-15.0</td>\n",
              "    </tr>\n",
              "    <tr>\n",
              "      <th>3</th>\n",
              "      <td>4.902239799499512</td>\n",
              "      <td>6.922282218933105</td>\n",
              "      <td>22.0</td>\n",
              "      <td>5.0</td>\n",
              "      <td>2.0</td>\n",
              "      <td>-12.0</td>\n",
              "    </tr>\n",
              "    <tr>\n",
              "      <th>4</th>\n",
              "      <td>4.908720016479492</td>\n",
              "      <td>7.301085948944092</td>\n",
              "      <td>26.0</td>\n",
              "      <td>5.0</td>\n",
              "      <td>2.0</td>\n",
              "      <td>-15.0</td>\n",
              "    </tr>\n",
              "  </tbody>\n",
              "</table>\n",
              "</div>"
            ],
            "text/plain": [
              "                mean                std  99quat  50quat  25quat  1quat\n",
              "0  4.884113311767578  5.101089000701904    18.0     5.0     3.0   -8.0\n",
              "1  4.725766658782959  6.588801860809326    21.0     5.0     2.0  -11.0\n",
              "2  4.906393527984619  6.967373847961426    26.0     5.0     2.0  -15.0\n",
              "3  4.902239799499512  6.922282218933105    22.0     5.0     2.0  -12.0\n",
              "4  4.908720016479492  7.301085948944092    26.0     5.0     2.0  -15.0"
            ]
          },
          "metadata": {
            "tags": []
          },
          "execution_count": 29
        }
      ]
    },
    {
      "cell_type": "code",
      "metadata": {
        "id": "6a-FB3ZKojdI",
        "colab_type": "code",
        "colab": {}
      },
      "source": [
        "scaler = StandardScaler()\n",
        "X_scaler = scaler.fit_transform(X_train)"
      ],
      "execution_count": 12,
      "outputs": []
    },
    {
      "cell_type": "code",
      "metadata": {
        "id": "TuluMKeC7mW_",
        "colab_type": "code",
        "colab": {
          "base_uri": "https://localhost:8080/",
          "height": 34
        },
        "outputId": "31bebf70-27c3-4fe5-c260-b4ade5bddbdc"
      },
      "source": [
        "gc.collect()"
      ],
      "execution_count": 13,
      "outputs": [
        {
          "output_type": "execute_result",
          "data": {
            "text/plain": [
              "33"
            ]
          },
          "metadata": {
            "tags": []
          },
          "execution_count": 13
        }
      ]
    },
    {
      "cell_type": "code",
      "metadata": {
        "id": "p8azAyUS7nqE",
        "colab_type": "code",
        "colab": {}
      },
      "source": [
        "model = Sequential()\n",
        "model.add(Dense(32,input_shape = (6,),activation = 'relu'))\n",
        "model.add(Dense(32,activation = 'relu'))\n",
        "model.add(Dense(32,activation = 'relu'))\n",
        "model.add(Dense(1))\n",
        "model.compile(loss = 'mae',optimizer = 'adam')"
      ],
      "execution_count": 14,
      "outputs": []
    },
    {
      "cell_type": "code",
      "metadata": {
        "id": "GY1nCHf47o-u",
        "colab_type": "code",
        "colab": {
          "base_uri": "https://localhost:8080/",
          "height": 1000
        },
        "outputId": "4202e058-c0b9-4a08-ec05-0792d9e4fca5"
      },
      "source": [
        "model.fit(X_scaler,y_train.values.flatten(),epochs = 50)"
      ],
      "execution_count": 15,
      "outputs": [
        {
          "output_type": "stream",
          "text": [
            "Epoch 1/50\n",
            "4194/4194 [==============================] - 1s 180us/step - loss: 3.4142\n",
            "Epoch 2/50\n",
            "4194/4194 [==============================] - 0s 50us/step - loss: 2.2504\n",
            "Epoch 3/50\n",
            "4194/4194 [==============================] - 0s 45us/step - loss: 2.2083\n",
            "Epoch 4/50\n",
            "4194/4194 [==============================] - 0s 39us/step - loss: 2.1931\n",
            "Epoch 5/50\n",
            "4194/4194 [==============================] - 0s 42us/step - loss: 2.1791\n",
            "Epoch 6/50\n",
            "4194/4194 [==============================] - 0s 39us/step - loss: 2.1814\n",
            "Epoch 7/50\n",
            "4194/4194 [==============================] - 0s 42us/step - loss: 2.1745\n",
            "Epoch 8/50\n",
            "4194/4194 [==============================] - 0s 41us/step - loss: 2.1765\n",
            "Epoch 9/50\n",
            "4194/4194 [==============================] - 0s 41us/step - loss: 2.1709\n",
            "Epoch 10/50\n",
            "4194/4194 [==============================] - 0s 41us/step - loss: 2.1709\n",
            "Epoch 11/50\n",
            "4194/4194 [==============================] - 0s 41us/step - loss: 2.1602\n",
            "Epoch 12/50\n",
            "4194/4194 [==============================] - 0s 37us/step - loss: 2.1580\n",
            "Epoch 13/50\n",
            "4194/4194 [==============================] - 0s 40us/step - loss: 2.1619\n",
            "Epoch 14/50\n",
            "4194/4194 [==============================] - 0s 40us/step - loss: 2.1587\n",
            "Epoch 15/50\n",
            "4194/4194 [==============================] - 0s 40us/step - loss: 2.1547\n",
            "Epoch 16/50\n",
            "4194/4194 [==============================] - 0s 40us/step - loss: 2.1626\n",
            "Epoch 17/50\n",
            "4194/4194 [==============================] - 0s 40us/step - loss: 2.1531\n",
            "Epoch 18/50\n",
            "4194/4194 [==============================] - 0s 39us/step - loss: 2.1498\n",
            "Epoch 19/50\n",
            "4194/4194 [==============================] - 0s 40us/step - loss: 2.1557\n",
            "Epoch 20/50\n",
            "4194/4194 [==============================] - 0s 46us/step - loss: 2.1523\n",
            "Epoch 21/50\n",
            "4194/4194 [==============================] - 0s 40us/step - loss: 2.1515\n",
            "Epoch 22/50\n",
            "4194/4194 [==============================] - 0s 42us/step - loss: 2.1538\n",
            "Epoch 23/50\n",
            "4194/4194 [==============================] - 0s 41us/step - loss: 2.1553\n",
            "Epoch 24/50\n",
            "4194/4194 [==============================] - 0s 39us/step - loss: 2.1537\n",
            "Epoch 25/50\n",
            "4194/4194 [==============================] - 0s 39us/step - loss: 2.1507\n",
            "Epoch 26/50\n",
            "4194/4194 [==============================] - 0s 40us/step - loss: 2.1507\n",
            "Epoch 27/50\n",
            "4194/4194 [==============================] - 0s 40us/step - loss: 2.1494\n",
            "Epoch 28/50\n",
            "4194/4194 [==============================] - 0s 40us/step - loss: 2.1500\n",
            "Epoch 29/50\n",
            "4194/4194 [==============================] - 0s 39us/step - loss: 2.1441\n",
            "Epoch 30/50\n",
            "4194/4194 [==============================] - 0s 42us/step - loss: 2.1454\n",
            "Epoch 31/50\n",
            "4194/4194 [==============================] - 0s 42us/step - loss: 2.1505\n",
            "Epoch 32/50\n",
            "4194/4194 [==============================] - 0s 42us/step - loss: 2.1460\n",
            "Epoch 33/50\n",
            "4194/4194 [==============================] - 0s 41us/step - loss: 2.1481\n",
            "Epoch 34/50\n",
            "4194/4194 [==============================] - 0s 43us/step - loss: 2.1428\n",
            "Epoch 35/50\n",
            "4194/4194 [==============================] - 0s 44us/step - loss: 2.1430\n",
            "Epoch 36/50\n",
            "4194/4194 [==============================] - 0s 40us/step - loss: 2.1404\n",
            "Epoch 37/50\n",
            "4194/4194 [==============================] - 0s 53us/step - loss: 2.1392\n",
            "Epoch 38/50\n",
            "4194/4194 [==============================] - 0s 45us/step - loss: 2.1373\n",
            "Epoch 39/50\n",
            "4194/4194 [==============================] - 0s 40us/step - loss: 2.1365\n",
            "Epoch 40/50\n",
            "4194/4194 [==============================] - 0s 43us/step - loss: 2.1417\n",
            "Epoch 41/50\n",
            "4194/4194 [==============================] - 0s 39us/step - loss: 2.1440\n",
            "Epoch 42/50\n",
            "4194/4194 [==============================] - 0s 42us/step - loss: 2.1378\n",
            "Epoch 43/50\n",
            "4194/4194 [==============================] - 0s 41us/step - loss: 2.1354\n",
            "Epoch 44/50\n",
            "4194/4194 [==============================] - 0s 46us/step - loss: 2.1423\n",
            "Epoch 45/50\n",
            "4194/4194 [==============================] - 0s 47us/step - loss: 2.1400\n",
            "Epoch 46/50\n",
            "4194/4194 [==============================] - 0s 47us/step - loss: 2.1402\n",
            "Epoch 47/50\n",
            "4194/4194 [==============================] - 0s 42us/step - loss: 2.1353\n",
            "Epoch 48/50\n",
            "4194/4194 [==============================] - 0s 46us/step - loss: 2.1427\n",
            "Epoch 49/50\n",
            "4194/4194 [==============================] - 0s 40us/step - loss: 2.1326\n",
            "Epoch 50/50\n",
            "4194/4194 [==============================] - 0s 39us/step - loss: 2.1391\n"
          ],
          "name": "stdout"
        },
        {
          "output_type": "execute_result",
          "data": {
            "text/plain": [
              "<keras.callbacks.callbacks.History at 0x7fed219a5a20>"
            ]
          },
          "metadata": {
            "tags": []
          },
          "execution_count": 15
        }
      ]
    },
    {
      "cell_type": "code",
      "metadata": {
        "id": "B1inUa2d7qJg",
        "colab_type": "code",
        "colab": {}
      },
      "source": [
        "sub_data = pd.read_csv('../content/drive/My Drive/input/sample_submission.csv',index_col = 'seg_id')"
      ],
      "execution_count": 16,
      "outputs": []
    },
    {
      "cell_type": "code",
      "metadata": {
        "id": "91dpIGg67xM2",
        "colab_type": "code",
        "colab": {}
      },
      "source": [
        "X_test = pd.DataFrame(columns = X_train.columns,dtype = np.float32,index = sub_data.index)"
      ],
      "execution_count": 17,
      "outputs": []
    },
    {
      "cell_type": "code",
      "metadata": {
        "id": "inCoEPKc748O",
        "colab_type": "code",
        "colab": {
          "base_uri": "https://localhost:8080/",
          "height": 34
        },
        "outputId": "0773b8cd-48c8-4506-ce83-aee916fbe5c3"
      },
      "source": [
        "for seq in tqdm(X_test.index):\n",
        "    test_data = pd.read_csv('../content/drive/My Drive/input/test/'+seq+'.csv')\n",
        "    x = test_data['acoustic_data'].values\n",
        "    X_test.loc[seq,'mean'] = np.mean(x)\n",
        "    X_test.loc[seq,'std']  = np.std(x)\n",
        "    X_test.loc[seq,'99quat'] = np.quantile(x,0.99)\n",
        "    X_test.loc[seq,'50quat'] = np.quantile(x,0.5)\n",
        "    X_test.loc[seq,'25quat'] = np.quantile(x,0.25)\n",
        "    X_test.loc[seq,'1quat'] =  np.quantile(x,0.01)"
      ],
      "execution_count": 19,
      "outputs": [
        {
          "output_type": "stream",
          "text": [
            "100%|██████████| 2624/2624 [14:52<00:00,  2.94it/s]\n"
          ],
          "name": "stderr"
        }
      ]
    },
    {
      "cell_type": "code",
      "metadata": {
        "id": "TCEFGfux76s9",
        "colab_type": "code",
        "colab": {}
      },
      "source": [
        "X_test_scaler = scaler.transform(X_test)"
      ],
      "execution_count": 20,
      "outputs": []
    },
    {
      "cell_type": "code",
      "metadata": {
        "id": "6yt9yc8s77-N",
        "colab_type": "code",
        "colab": {}
      },
      "source": [
        "pred = model.predict(X_test_scaler)"
      ],
      "execution_count": 21,
      "outputs": []
    },
    {
      "cell_type": "code",
      "metadata": {
        "id": "brrRA-n57_wp",
        "colab_type": "code",
        "colab": {}
      },
      "source": [
        "sub_data['time_to_failure'] = pred\n",
        "sub_data['seg_id'] = sub_data.index"
      ],
      "execution_count": 26,
      "outputs": []
    },
    {
      "cell_type": "code",
      "metadata": {
        "id": "tHiP2KHm8APc",
        "colab_type": "code",
        "colab": {
          "base_uri": "https://localhost:8080/",
          "height": 225
        },
        "outputId": "9bdc0c0b-79f8-434a-c0e8-b432b361a68b"
      },
      "source": [
        "sub_data.head()"
      ],
      "execution_count": 27,
      "outputs": [
        {
          "output_type": "execute_result",
          "data": {
            "text/html": [
              "<div>\n",
              "<style scoped>\n",
              "    .dataframe tbody tr th:only-of-type {\n",
              "        vertical-align: middle;\n",
              "    }\n",
              "\n",
              "    .dataframe tbody tr th {\n",
              "        vertical-align: top;\n",
              "    }\n",
              "\n",
              "    .dataframe thead th {\n",
              "        text-align: right;\n",
              "    }\n",
              "</style>\n",
              "<table border=\"1\" class=\"dataframe\">\n",
              "  <thead>\n",
              "    <tr style=\"text-align: right;\">\n",
              "      <th></th>\n",
              "      <th>time_to_failure</th>\n",
              "      <th>seg_id</th>\n",
              "    </tr>\n",
              "    <tr>\n",
              "      <th>seg_id</th>\n",
              "      <th></th>\n",
              "      <th></th>\n",
              "    </tr>\n",
              "  </thead>\n",
              "  <tbody>\n",
              "    <tr>\n",
              "      <th>seg_00030f</th>\n",
              "      <td>5.223076820373535</td>\n",
              "      <td>seg_00030f</td>\n",
              "    </tr>\n",
              "    <tr>\n",
              "      <th>seg_0012b5</th>\n",
              "      <td>4.500625133514404</td>\n",
              "      <td>seg_0012b5</td>\n",
              "    </tr>\n",
              "    <tr>\n",
              "      <th>seg_00184e</th>\n",
              "      <td>3.604608297348022</td>\n",
              "      <td>seg_00184e</td>\n",
              "    </tr>\n",
              "    <tr>\n",
              "      <th>seg_003339</th>\n",
              "      <td>8.413659095764160</td>\n",
              "      <td>seg_003339</td>\n",
              "    </tr>\n",
              "    <tr>\n",
              "      <th>seg_0042cc</th>\n",
              "      <td>5.600977420806885</td>\n",
              "      <td>seg_0042cc</td>\n",
              "    </tr>\n",
              "  </tbody>\n",
              "</table>\n",
              "</div>"
            ],
            "text/plain": [
              "              time_to_failure      seg_id\n",
              "seg_id                                   \n",
              "seg_00030f  5.223076820373535  seg_00030f\n",
              "seg_0012b5  4.500625133514404  seg_0012b5\n",
              "seg_00184e  3.604608297348022  seg_00184e\n",
              "seg_003339  8.413659095764160  seg_003339\n",
              "seg_0042cc  5.600977420806885  seg_0042cc"
            ]
          },
          "metadata": {
            "tags": []
          },
          "execution_count": 27
        }
      ]
    },
    {
      "cell_type": "code",
      "metadata": {
        "id": "hgbi7xm28BcG",
        "colab_type": "code",
        "colab": {}
      },
      "source": [
        "sub_data.to_csv('sub_earthquake.csv',index = False)"
      ],
      "execution_count": 28,
      "outputs": []
    }
  ]
}